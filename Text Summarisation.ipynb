{
 "cells": [
  {
   "cell_type": "markdown",
   "metadata": {},
   "source": [
    "## Text Summarisation"
   ]
  },
  {
   "cell_type": "markdown",
   "metadata": {},
   "source": [
    "##### Use case: When you go through a article, you want to summarise it. Typically this would be done manually and identify the key information.. Python can help automate this"
   ]
  },
  {
   "cell_type": "markdown",
   "metadata": {},
   "source": [
    "## 1. Text Summarisation using genism TextRank"
   ]
  },
  {
   "cell_type": "markdown",
   "metadata": {},
   "source": [
    "How does TextRank work?"
   ]
  },
  {
   "cell_type": "markdown",
   "metadata": {},
   "source": [
    "The text corpus is pre-processed - all stop words, punctuations removed, words are lemmatized (what is the root word?).\n",
    "\n",
    "Then each sentence goes through a vectorisation process - i.e. create words in a short way to represent the sentence\n",
    "\n",
    "The algorithm looks and calculates the similarities between these sentence vectors.\n",
    "\n",
    "It will next build a graph representation, each sentence representing a node, and the similiarities between sentences are the edge values. These edge values are stored into a matrix.\n",
    "\n",
    "The sentences are ranked according to the significance of weights."
   ]
  },
  {
   "cell_type": "markdown",
   "metadata": {},
   "source": [
    "### Step 1: Import genism library"
   ]
  },
  {
   "cell_type": "code",
   "execution_count": 4,
   "metadata": {},
   "outputs": [],
   "source": [
    "import gensim\n",
    "from gensim.summarization import summarize"
   ]
  },
  {
   "cell_type": "markdown",
   "metadata": {},
   "source": [
    "### Step 2: Initialise article (sample)"
   ]
  },
  {
   "cell_type": "code",
   "execution_count": 6,
   "metadata": {},
   "outputs": [],
   "source": [
    "article_text='Junk foods taste good thatâ€™s why it is mostly liked by everyone of any age group especially kids and school going children. They generally ask for the junk food daily because they have been trend so by their parents from the childhood. They never have been discussed by their parents about the harmful effects of junk foods over health. According to the research by scientists, it has been found that junk foods have negative effects on the health in many ways. They are generally fried food found in the market in the packets. They become high in calories, high in cholesterol, low in healthy nutrients, high in sodium mineral, high in sugar, starch, unhealthy fat, lack of protein and lack of dietary fibers. Processed and junk foods are the means of rapid and unhealthy weight gain and negatively impact the whole body throughout the life. It makes able a person to gain excessive weight which is called as obesity. Junk foods tastes good and looks good however do not fulfil the healthy calorie requirement of the body. Some of the foods like french fries, fried foods, pizza, burgers, candy, soft drinks, baked goods, ice cream, cookies, etc are the example of high-sugar and high-fat containing foods. It is found according to the Centres for Disease Control and Prevention that Kids and children eating junk food are more prone to the type-2 diabetes. In type-2 diabetes our body become unable to regulate blood sugar level. Risk of getting this disease is increasing as one become more obese or overweight. It increases the risk of kidney failure. Eating junk food daily lead us to the nutritional deficiencies in the body because it is lack of essential nutrients, vitamins, iron, minerals and dietary fibers. It increases risk of cardiovascular diseases because it is rich in saturated fat, sodium and bad cholesterol. High sodium and bad cholesterol diet increases blood pressure and overloads the heart functioning. One who like junk food develop more risk to put on extra weight and become fatter and unhealthier. Junk foods contain high level carbohydrate which spike blood sugar level and make person more lethargic, sleepy and less active and alert. Reflexes and senses of the people eating this food become dull day by day thus they live more sedentary life. Junk foods are the source of constipation and other disease like diabetes, heart ailments, clogged arteries, heart attack, strokes, etc because of being poor in nutrition. Junk food is the easiest way to gain unhealthy weight. The amount of fats and sugar in the food makes you gain weight rapidly. However, this is not a healthy weight. It is more of fats and cholesterol which will have a harmful impact on your health. Junk food is also one of the main reasons for the increase in obesity nowadays.This food only looks and tastes good, other than that, it has no positive points. The amount of calorie your body requires to stay fit is not fulfilled by this food. For instance, foods like French fries, burgers, candy, and cookies, all have high amounts of sugar and fats. Therefore, this can result in long-term illnesses like diabetes and high blood pressure. This may also result in kidney failure. Above all, you can get various nutritional deficiencies when you donâ€™t consume the essential nutrients, vitamins, minerals and more. You become prone to cardiovascular diseases due to the consumption of bad cholesterol and fat plus sodium. In other words, all this interferes with the functioning of your heart. Furthermore, junk food contains a higher level of carbohydrates. It will instantly spike your blood sugar levels. This will result in lethargy, inactiveness, and sleepiness. A person reflex becomes dull overtime and they lead an inactive life. To make things worse, junk food also clogs your arteries and increases the risk of a heart attack. Therefore, it must be avoided at the first instance to save your life from becoming ruined.The main problem with junk food is that people donâ€™t realize its ill effects now. When the time comes, it is too late. Most importantly, the issue is that it does not impact you instantly. It works on your overtime; you will face the consequences sooner or later. Thus, it is better to stop now.You can avoid junk food by encouraging your children from an early age to eat green vegetables. Their taste buds must be developed as such that they find healthy food tasty. Moreover, try to mix things up. Do not serve the same green vegetable daily in the same style. Incorporate different types of healthy food in their diet following different recipes. This will help them to try foods at home rather than being attracted to junk food.In short, do not deprive them completely of it as that will not help. Children will find one way or the other to have it. Make sure you give them junk food in limited quantities and at healthy periods of time. Hope it will help you'"
   ]
  },
  {
   "cell_type": "markdown",
   "metadata": {},
   "source": [
    "### Step 3: Pass the article_text corpus into summarize"
   ]
  },
  {
   "cell_type": "code",
   "execution_count": 7,
   "metadata": {},
   "outputs": [
    {
     "name": "stdout",
     "output_type": "stream",
     "text": [
      "They become high in calories, high in cholesterol, low in healthy nutrients, high in sodium mineral, high in sugar, starch, unhealthy fat, lack of protein and lack of dietary fibers.\n",
      "Processed and junk foods are the means of rapid and unhealthy weight gain and negatively impact the whole body throughout the life.\n",
      "Junk foods tastes good and looks good however do not fulfil the healthy calorie requirement of the body.\n",
      "It is found according to the Centres for Disease Control and Prevention that Kids and children eating junk food are more prone to the type-2 diabetes.\n",
      "Eating junk food daily lead us to the nutritional deficiencies in the body because it is lack of essential nutrients, vitamins, iron, minerals and dietary fibers.\n",
      "It increases risk of cardiovascular diseases because it is rich in saturated fat, sodium and bad cholesterol.\n",
      "High sodium and bad cholesterol diet increases blood pressure and overloads the heart functioning.\n",
      "One who like junk food develop more risk to put on extra weight and become fatter and unhealthier.\n",
      "Junk foods contain high level carbohydrate which spike blood sugar level and make person more lethargic, sleepy and less active and alert.\n",
      "For instance, foods like French fries, burgers, candy, and cookies, all have high amounts of sugar and fats.\n"
     ]
    }
   ],
   "source": [
    "short_summary=summarize(article_text)\n",
    "print(short_summary)"
   ]
  },
  {
   "cell_type": "markdown",
   "metadata": {},
   "source": [
    "The issue with the above summarised text is that it is way too long. The summarize function can take in two variables:\n",
    "\n",
    "ratio: value can be between 0 to 1. It is the ratio of the summary to the original text in terms of the length.\n",
    "word_count: this is number of words in the summary"
   ]
  },
  {
   "cell_type": "markdown",
   "metadata": {},
   "source": [
    "Test 1: Make the summary only 10% of the original text corpus"
   ]
  },
  {
   "cell_type": "code",
   "execution_count": 8,
   "metadata": {},
   "outputs": [
    {
     "name": "stdout",
     "output_type": "stream",
     "text": [
      "They become high in calories, high in cholesterol, low in healthy nutrients, high in sodium mineral, high in sugar, starch, unhealthy fat, lack of protein and lack of dietary fibers.\n",
      "Processed and junk foods are the means of rapid and unhealthy weight gain and negatively impact the whole body throughout the life.\n",
      "Eating junk food daily lead us to the nutritional deficiencies in the body because it is lack of essential nutrients, vitamins, iron, minerals and dietary fibers.\n",
      "High sodium and bad cholesterol diet increases blood pressure and overloads the heart functioning.\n",
      "Junk foods contain high level carbohydrate which spike blood sugar level and make person more lethargic, sleepy and less active and alert.\n"
     ]
    }
   ],
   "source": [
    "summary_by_ratio=summarize(article_text,ratio=0.1)\n",
    "print(summary_by_ratio)"
   ]
  },
  {
   "cell_type": "markdown",
   "metadata": {},
   "source": [
    "Test 2: Summarise using word_count limit being 20"
   ]
  },
  {
   "cell_type": "code",
   "execution_count": 10,
   "metadata": {},
   "outputs": [
    {
     "name": "stdout",
     "output_type": "stream",
     "text": [
      "They become high in calories, high in cholesterol, low in healthy nutrients, high in sodium mineral, high in sugar, starch, unhealthy fat, lack of protein and lack of dietary fibers.\n"
     ]
    }
   ],
   "source": [
    "summary=summarize(article_text,ratio=0.1,word_count=20)\n",
    "print(summary)"
   ]
  },
  {
   "cell_type": "markdown",
   "metadata": {},
   "source": [
    "## 2. Text Summarisation using spacy"
   ]
  },
  {
   "cell_type": "code",
   "execution_count": 11,
   "metadata": {},
   "outputs": [],
   "source": [
    "import spacy\n",
    "nlp = spacy.load('en_core_web_sm')\n",
    "doc=nlp(article_text)"
   ]
  },
  {
   "cell_type": "markdown",
   "metadata": {},
   "source": [
    "### 2.1 Only filter for proper nouns, adj, nouns and verbs"
   ]
  },
  {
   "cell_type": "code",
   "execution_count": 12,
   "metadata": {},
   "outputs": [],
   "source": [
    "keywords_list = []\n",
    "\n",
    "desired_pos = ['PROPN', 'ADJ', 'NOUN', 'VERB']\n",
    "\n",
    "from string import punctuation #import this to identify stop words or punctuations.\n",
    "\n",
    "\n",
    "# Iterating through tokens \n",
    "for token in doc: \n",
    "  # checking if a token is stopword or punctuation\n",
    "  if(token.text in nlp.Defaults.stop_words or token.text in punctuation):\n",
    "    # If true, they are just ignored and loop goes to the next token\n",
    "    continue\n",
    "  #  checking if the POS tag of the token is in our desired list\n",
    "  if(token.pos_ in desired_pos):\n",
    "    # If true, append the token to our keywords list\n",
    "    keywords_list.append(token.text)"
   ]
  },
  {
   "cell_type": "markdown",
   "metadata": {},
   "source": [
    "### 2.2 Counter"
   ]
  },
  {
   "cell_type": "code",
   "execution_count": 14,
   "metadata": {},
   "outputs": [
    {
     "name": "stdout",
     "output_type": "stream",
     "text": [
      "Counter({'food': 19, 'junk': 13, 'foods': 12, 'high': 9, 'sugar': 7, 'Junk': 6, 'healthy': 6, 'weight': 6, 'cholesterol': 5, 'body': 5, 'blood': 5, 'heart': 5, 'good': 4, 'sodium': 4, 'fat': 4, 'gain': 4, 'life': 4, 'diabetes': 4, 'level': 4, 'increases': 4, 'risk': 4, 'children': 3, 'effects': 3, 'health': 3, 'found': 3, 'nutrients': 3, 'unhealthy': 3, 'lack': 3, 'impact': 3, 'person': 3, 'bad': 3, 'fats': 3, 'result': 3, 'help': 3, 'taste': 2, 'age': 2, 'parents': 2, 'harmful': 2, 'fried': 2, 'dietary': 2, 'fibers': 2, 'makes': 2, 'obesity': 2, 'tastes': 2, 'looks': 2, 'calorie': 2, 'fries': 2, 'burgers': 2, 'candy': 2, 'cookies': 2, 'eating': 2, 'prone': 2, 'type-2': 2, 'disease': 2, 'kidney': 2, 'failure': 2, 'lead': 2, 'nutritional': 2, 'deficiencies': 2, 'essential': 2, 'vitamins': 2, 'minerals': 2, 'cardiovascular': 2, 'diseases': 2, 'diet': 2, 'pressure': 2, 'functioning': 2, 'spike': 2, 'people': 2, 'dull': 2, 'day': 2, 'arteries': 2, 'attack': 2, 'way': 2, 'main': 2, 'instance': 2, 't': 2, 'overtime': 2, 'things': 2, 'time': 2, 'green': 2, 'find': 2, 'try': 2, 'different': 2, 'thatâ€': 1, 's': 1, 'liked': 1, 'group': 1, 'kids': 1, 'school': 1, 'going': 1, 'ask': 1, 'trend': 1, 'childhood': 1, 'discussed': 1, 'According': 1, 'research': 1, 'scientists': 1, 'negative': 1, 'ways': 1, 'market': 1, 'packets': 1, 'calories': 1, 'low': 1, 'mineral': 1, 'starch': 1, 'protein': 1, 'Processed': 1, 'means': 1, 'rapid': 1, 'able': 1, 'excessive': 1, 'called': 1, 'fulfil': 1, 'requirement': 1, 'french': 1, 'pizza': 1, 'soft': 1, 'drinks': 1, 'baked': 1, 'goods': 1, 'ice': 1, 'cream': 1, 'example': 1, 'containing': 1, 'according': 1, 'Centres': 1, 'Disease': 1, 'Control': 1, 'Prevention': 1, 'Kids': 1, 'unable': 1, 'regulate': 1, 'Risk': 1, 'getting': 1, 'increasing': 1, 'obese': 1, 'overweight': 1, 'Eating': 1, 'iron': 1, 'rich': 1, 'saturated': 1, 'High': 1, 'overloads': 1, 'like': 1, 'develop': 1, 'extra': 1, 'fatter': 1, 'unhealthier': 1, 'contain': 1, 'carbohydrate': 1, 'lethargic': 1, 'sleepy': 1, 'active': 1, 'alert': 1, 'Reflexes': 1, 'senses': 1, 'live': 1, 'sedentary': 1, 'source': 1, 'constipation': 1, 'ailments': 1, 'clogged': 1, 'strokes': 1, 'poor': 1, 'nutrition': 1, 'easiest': 1, 'reasons': 1, 'increase': 1, 'positive': 1, 'points': 1, 'requires': 1, 'stay': 1, 'fit': 1, 'fulfilled': 1, 'French': 1, 'amounts': 1, 'long': 1, 'term': 1, 'illnesses': 1, 'donâ€': 1, 'consume': 1, 'consumption': 1, 'words': 1, 'interferes': 1, 'contains': 1, 'higher': 1, 'carbohydrates': 1, 'levels': 1, 'lethargy': 1, 'inactiveness': 1, 'sleepiness': 1, 'reflex': 1, 'inactive': 1, 'worse': 1, 'clogs': 1, 'avoided': 1, 'save': 1, 'ruined': 1, 'problem': 1, 'realize': 1, 'ill': 1, 'comes': 1, 'late': 1, 'issue': 1, 'works': 1, 'face': 1, 'consequences': 1, 'better': 1, 'stop': 1, 'avoid': 1, 'encouraging': 1, 'early': 1, 'eat': 1, 'vegetables': 1, 'buds': 1, 'developed': 1, 'tasty': 1, 'mix': 1, 'serve': 1, 'vegetable': 1, 'style': 1, 'Incorporate': 1, 'types': 1, 'following': 1, 'recipes': 1, 'home': 1, 'attracted': 1, 'short': 1, 'deprive': 1, 'Children': 1, 'Make': 1, 'sure': 1, 'limited': 1, 'quantities': 1, 'periods': 1, 'Hope': 1})\n"
     ]
    }
   ],
   "source": [
    "from collections import Counter\n",
    "\n",
    "dictionary = Counter(keywords_list) \n",
    "print(dictionary)"
   ]
  },
  {
   "cell_type": "markdown",
   "metadata": {},
   "source": [
    "### 2.3 Normalisation"
   ]
  },
  {
   "cell_type": "code",
   "execution_count": 17,
   "metadata": {},
   "outputs": [
    {
     "name": "stdout",
     "output_type": "stream",
     "text": [
      "19\n"
     ]
    }
   ],
   "source": [
    "# find the highest frequency \n",
    "highest_frequency = Counter(keywords_list).most_common(1)[0][1] \n",
    "\n",
    "print(highest_frequency)"
   ]
  },
  {
   "cell_type": "code",
   "execution_count": 18,
   "metadata": {},
   "outputs": [
    {
     "name": "stdout",
     "output_type": "stream",
     "text": [
      "Counter({'food': 1.0, 'junk': 0.6842105263157895, 'foods': 0.631578947368421, 'high': 0.47368421052631576, 'sugar': 0.3684210526315789, 'Junk': 0.3157894736842105, 'healthy': 0.3157894736842105, 'weight': 0.3157894736842105, 'cholesterol': 0.2631578947368421, 'body': 0.2631578947368421, 'blood': 0.2631578947368421, 'heart': 0.2631578947368421, 'good': 0.21052631578947367, 'sodium': 0.21052631578947367, 'fat': 0.21052631578947367, 'gain': 0.21052631578947367, 'life': 0.21052631578947367, 'diabetes': 0.21052631578947367, 'level': 0.21052631578947367, 'increases': 0.21052631578947367, 'risk': 0.21052631578947367, 'children': 0.15789473684210525, 'effects': 0.15789473684210525, 'health': 0.15789473684210525, 'found': 0.15789473684210525, 'nutrients': 0.15789473684210525, 'unhealthy': 0.15789473684210525, 'lack': 0.15789473684210525, 'impact': 0.15789473684210525, 'person': 0.15789473684210525, 'bad': 0.15789473684210525, 'fats': 0.15789473684210525, 'result': 0.15789473684210525, 'help': 0.15789473684210525, 'taste': 0.10526315789473684, 'age': 0.10526315789473684, 'parents': 0.10526315789473684, 'harmful': 0.10526315789473684, 'fried': 0.10526315789473684, 'dietary': 0.10526315789473684, 'fibers': 0.10526315789473684, 'makes': 0.10526315789473684, 'obesity': 0.10526315789473684, 'tastes': 0.10526315789473684, 'looks': 0.10526315789473684, 'calorie': 0.10526315789473684, 'fries': 0.10526315789473684, 'burgers': 0.10526315789473684, 'candy': 0.10526315789473684, 'cookies': 0.10526315789473684, 'eating': 0.10526315789473684, 'prone': 0.10526315789473684, 'type-2': 0.10526315789473684, 'disease': 0.10526315789473684, 'kidney': 0.10526315789473684, 'failure': 0.10526315789473684, 'lead': 0.10526315789473684, 'nutritional': 0.10526315789473684, 'deficiencies': 0.10526315789473684, 'essential': 0.10526315789473684, 'vitamins': 0.10526315789473684, 'minerals': 0.10526315789473684, 'cardiovascular': 0.10526315789473684, 'diseases': 0.10526315789473684, 'diet': 0.10526315789473684, 'pressure': 0.10526315789473684, 'functioning': 0.10526315789473684, 'spike': 0.10526315789473684, 'people': 0.10526315789473684, 'dull': 0.10526315789473684, 'day': 0.10526315789473684, 'arteries': 0.10526315789473684, 'attack': 0.10526315789473684, 'way': 0.10526315789473684, 'main': 0.10526315789473684, 'instance': 0.10526315789473684, 't': 0.10526315789473684, 'overtime': 0.10526315789473684, 'things': 0.10526315789473684, 'time': 0.10526315789473684, 'green': 0.10526315789473684, 'find': 0.10526315789473684, 'try': 0.10526315789473684, 'different': 0.10526315789473684, 'thatâ€': 0.05263157894736842, 's': 0.05263157894736842, 'liked': 0.05263157894736842, 'group': 0.05263157894736842, 'kids': 0.05263157894736842, 'school': 0.05263157894736842, 'going': 0.05263157894736842, 'ask': 0.05263157894736842, 'trend': 0.05263157894736842, 'childhood': 0.05263157894736842, 'discussed': 0.05263157894736842, 'According': 0.05263157894736842, 'research': 0.05263157894736842, 'scientists': 0.05263157894736842, 'negative': 0.05263157894736842, 'ways': 0.05263157894736842, 'market': 0.05263157894736842, 'packets': 0.05263157894736842, 'calories': 0.05263157894736842, 'low': 0.05263157894736842, 'mineral': 0.05263157894736842, 'starch': 0.05263157894736842, 'protein': 0.05263157894736842, 'Processed': 0.05263157894736842, 'means': 0.05263157894736842, 'rapid': 0.05263157894736842, 'able': 0.05263157894736842, 'excessive': 0.05263157894736842, 'called': 0.05263157894736842, 'fulfil': 0.05263157894736842, 'requirement': 0.05263157894736842, 'french': 0.05263157894736842, 'pizza': 0.05263157894736842, 'soft': 0.05263157894736842, 'drinks': 0.05263157894736842, 'baked': 0.05263157894736842, 'goods': 0.05263157894736842, 'ice': 0.05263157894736842, 'cream': 0.05263157894736842, 'example': 0.05263157894736842, 'containing': 0.05263157894736842, 'according': 0.05263157894736842, 'Centres': 0.05263157894736842, 'Disease': 0.05263157894736842, 'Control': 0.05263157894736842, 'Prevention': 0.05263157894736842, 'Kids': 0.05263157894736842, 'unable': 0.05263157894736842, 'regulate': 0.05263157894736842, 'Risk': 0.05263157894736842, 'getting': 0.05263157894736842, 'increasing': 0.05263157894736842, 'obese': 0.05263157894736842, 'overweight': 0.05263157894736842, 'Eating': 0.05263157894736842, 'iron': 0.05263157894736842, 'rich': 0.05263157894736842, 'saturated': 0.05263157894736842, 'High': 0.05263157894736842, 'overloads': 0.05263157894736842, 'like': 0.05263157894736842, 'develop': 0.05263157894736842, 'extra': 0.05263157894736842, 'fatter': 0.05263157894736842, 'unhealthier': 0.05263157894736842, 'contain': 0.05263157894736842, 'carbohydrate': 0.05263157894736842, 'lethargic': 0.05263157894736842, 'sleepy': 0.05263157894736842, 'active': 0.05263157894736842, 'alert': 0.05263157894736842, 'Reflexes': 0.05263157894736842, 'senses': 0.05263157894736842, 'live': 0.05263157894736842, 'sedentary': 0.05263157894736842, 'source': 0.05263157894736842, 'constipation': 0.05263157894736842, 'ailments': 0.05263157894736842, 'clogged': 0.05263157894736842, 'strokes': 0.05263157894736842, 'poor': 0.05263157894736842, 'nutrition': 0.05263157894736842, 'easiest': 0.05263157894736842, 'reasons': 0.05263157894736842, 'increase': 0.05263157894736842, 'positive': 0.05263157894736842, 'points': 0.05263157894736842, 'requires': 0.05263157894736842, 'stay': 0.05263157894736842, 'fit': 0.05263157894736842, 'fulfilled': 0.05263157894736842, 'French': 0.05263157894736842, 'amounts': 0.05263157894736842, 'long': 0.05263157894736842, 'term': 0.05263157894736842, 'illnesses': 0.05263157894736842, 'donâ€': 0.05263157894736842, 'consume': 0.05263157894736842, 'consumption': 0.05263157894736842, 'words': 0.05263157894736842, 'interferes': 0.05263157894736842, 'contains': 0.05263157894736842, 'higher': 0.05263157894736842, 'carbohydrates': 0.05263157894736842, 'levels': 0.05263157894736842, 'lethargy': 0.05263157894736842, 'inactiveness': 0.05263157894736842, 'sleepiness': 0.05263157894736842, 'reflex': 0.05263157894736842, 'inactive': 0.05263157894736842, 'worse': 0.05263157894736842, 'clogs': 0.05263157894736842, 'avoided': 0.05263157894736842, 'save': 0.05263157894736842, 'ruined': 0.05263157894736842, 'problem': 0.05263157894736842, 'realize': 0.05263157894736842, 'ill': 0.05263157894736842, 'comes': 0.05263157894736842, 'late': 0.05263157894736842, 'issue': 0.05263157894736842, 'works': 0.05263157894736842, 'face': 0.05263157894736842, 'consequences': 0.05263157894736842, 'better': 0.05263157894736842, 'stop': 0.05263157894736842, 'avoid': 0.05263157894736842, 'encouraging': 0.05263157894736842, 'early': 0.05263157894736842, 'eat': 0.05263157894736842, 'vegetables': 0.05263157894736842, 'buds': 0.05263157894736842, 'developed': 0.05263157894736842, 'tasty': 0.05263157894736842, 'mix': 0.05263157894736842, 'serve': 0.05263157894736842, 'vegetable': 0.05263157894736842, 'style': 0.05263157894736842, 'Incorporate': 0.05263157894736842, 'types': 0.05263157894736842, 'following': 0.05263157894736842, 'recipes': 0.05263157894736842, 'home': 0.05263157894736842, 'attracted': 0.05263157894736842, 'short': 0.05263157894736842, 'deprive': 0.05263157894736842, 'Children': 0.05263157894736842, 'Make': 0.05263157894736842, 'sure': 0.05263157894736842, 'limited': 0.05263157894736842, 'quantities': 0.05263157894736842, 'periods': 0.05263157894736842, 'Hope': 0.05263157894736842})\n"
     ]
    }
   ],
   "source": [
    "for word in dictionary:\n",
    "    dictionary[word] = (dictionary[word]/highest_frequency) \n",
    "\n",
    "print(dictionary)"
   ]
  },
  {
   "cell_type": "markdown",
   "metadata": {},
   "source": [
    "### 2.4 Assign scores to each sentence"
   ]
  },
  {
   "cell_type": "code",
   "execution_count": 21,
   "metadata": {},
   "outputs": [
    {
     "name": "stdout",
     "output_type": "stream",
     "text": [
      "{Junk foods taste good thatâ€: 1.3157894736842104, ™s why it is mostly liked by everyone of any age group especially kids and school going children.: 0.5789473684210527, They generally ask for the junk food daily because they have been trend so by their parents from the childhood.: 1.9473684210526316, They never have been discussed by their parents about the harmful effects of junk foods over health.: 1.894736842105263, According to the research by scientists, it has been found that junk foods have negative effects on the health in many ways.: 2.0526315789473686, They are generally fried food found in the market in the packets.: 1.3684210526315788, They become high in calories, high in cholesterol, low in healthy nutrients, high in sodium mineral, high in sugar, starch, unhealthy fat, lack of protein and lack of dietary fibers.: 4.36842105263158, Processed and junk foods are the means of rapid and unhealthy weight gain and negatively impact the whole body throughout the life.: 2.7894736842105265, It makes able a person to gain excessive weight which is called as obesity.: 1.0526315789473686, Junk foods tastes good and looks good however do not fulfil the healthy calorie requirement of the body.: 2.3684210526315788, Some of the foods like french fries, fried foods, pizza, burgers, candy, soft drinks, baked goods, ice cream, cookies, etc are the example of high-sugar and high-fat containing foods.: 4.526315789473684, It is found according to the Centres for Disease Control and Prevention that Kids and children eating junk food are more prone to the type-2 diabetes.: 2.8421052631578947, In type-2 diabetes our body become unable to regulate blood sugar level.: 1.526315789473684, Risk of getting this disease is increasing as one become more obese or overweight.: 0.3684210526315789, It increases the risk of kidney failure.: 0.631578947368421, Eating junk food daily lead us to the nutritional deficiencies in the body because it is lack of essential nutrients, vitamins, iron, minerals and dietary fibers.: 3.210526315789473, It increases risk of cardiovascular diseases because it is rich in saturated fat, sodium and bad cholesterol.: 1.5789473684210524, High sodium and bad cholesterol diet increases blood pressure and overloads the heart functioning.: 1.789473684210526, One who like junk food develop more risk to put on extra weight and become fatter and unhealthier.: 2.4736842105263164, Junk foods contain high level carbohydrate which spike blood sugar level and make person more lethargic, sleepy and less active and alert.: 3.052631578947369, Reflexes and senses of the people eating this food become dull day by day thus they live more sedentary life.: 1.9473684210526312, Junk foods are the source of constipation and other disease like diabetes, heart ailments, clogged arteries, heart attack, strokes, etc because of being poor in nutrition.: 2.4210526315789473, Junk food is the easiest way to gain unhealthy weight.: 2.1578947368421053, The amount of fats and sugar in the food makes you gain weight rapidly.: 2.157894736842105, However, this is not a healthy weight.: 0.631578947368421, It is more of fats and cholesterol which will have a harmful impact on your health.: 0.8421052631578947, Junk food is also one of the main reasons for the increase in obesity nowadays.: 1.6315789473684208, This food only looks and tastes good, other than that, it has no positive points.: 1.5263157894736838, The amount of calorie your body requires to stay fit is not fulfilled by this food.: 1.5789473684210527, For instance, foods like French fries, burgers, candy, and cookies, all have high amounts of sugar and fats.: 2.31578947368421, Therefore, this can result in long-term illnesses like diabetes and high blood pressure.: 1.4210526315789473, This may also result in kidney failure.: 0.3684210526315789, Above all, you can get various nutritional deficiencies when you donâ€: 0.2631578947368421, ™t consume the essential nutrients, vitamins, minerals and more.: 0.631578947368421, You become prone to cardiovascular diseases due to the consumption of bad cholesterol and fat plus sodium.: 1.2105263157894737, In other words, all this interferes with the functioning of your heart.: 0.47368421052631576, Furthermore, junk food contains a higher level of carbohydrates.: 2.052631578947368, It will instantly spike your blood sugar levels.: 0.7894736842105263, This will result in lethargy, inactiveness, and sleepiness.: 0.3157894736842105, A person reflex becomes dull overtime and they lead an inactive life.: 0.7894736842105263, To make things worse, junk food also clogs your arteries and increases the risk of a heart attack.: 2.7894736842105257, Therefore, it must be avoided at the first instance to save your life from becoming ruined.: 0.47368421052631576, The main problem with junk food is that people donâ€™t realize its ill effects now.: 2.368421052631579, When the time comes, it is too late.: 0.21052631578947367, Most importantly, the issue is that it does not impact you instantly.: 0.21052631578947367, It works on your overtime; you will face the consequences sooner or later.: 0.2631578947368421, Thus, it is better to stop now.: 0.10526315789473684, You can avoid junk food by encouraging your children from an early age to eat green vegetables.: 2.3157894736842106, Their taste buds must be developed as such that they find healthy food tasty.: 1.6842105263157894, Moreover, try to mix things up.: 0.2631578947368421, Do not serve the same green vegetable daily in the same style.: 0.2631578947368421, Incorporate different types of healthy food in their diet following different recipes.: 1.8421052631578945, This will help them to try foods at home rather than being attracted to junk food.: 2.6842105263157894, In short, do not deprive them completely of it as that will not help.: 0.2631578947368421, Children will find one way or the other to have it.: 0.2631578947368421, Make sure you give them junk food in limited quantities and at healthy periods of time.: 2.3684210526315788, Hope it will help you: 0.21052631578947367}\n"
     ]
    }
   ],
   "source": [
    "score={}\n",
    "\n",
    "# Iterating through each sentence\n",
    "for sentence in doc.sents: \n",
    "    # Iterating through token of each sentence\n",
    "    for token in sentence:\n",
    "        # checking if the token is a keyword \n",
    "        if token.text in dictionary.keys():\n",
    "            # If true , add the frequency of keyword to the score dictionary \n",
    "            if sentence in score.keys():\n",
    "                score[sentence]+=dictionary[token.text]\n",
    "            else:\n",
    "                score[sentence]=dictionary[token.text]\n",
    "\n",
    "print(score)"
   ]
  },
  {
   "cell_type": "code",
   "execution_count": 22,
   "metadata": {},
   "outputs": [],
   "source": [
    "#Sort by descending\n",
    "\n",
    "sorted_score = sorted(score.items(), key=lambda kv: kv[1], reverse=True)"
   ]
  },
  {
   "cell_type": "markdown",
   "metadata": {},
   "source": [
    "### Summary"
   ]
  },
  {
   "cell_type": "code",
   "execution_count": 24,
   "metadata": {},
   "outputs": [
    {
     "name": "stdout",
     "output_type": "stream",
     "text": [
      "['Some of the foods like french fries, fried foods, pizza, burgers, candy, soft drinks, baked goods, ice cream, cookies, etc are the example of high-sugar and high-fat containing foods.', 'They become high in calories, high in cholesterol, low in healthy nutrients, high in sodium mineral, high in sugar, starch, unhealthy fat, lack of protein and lack of dietary fibers.', 'Eating junk food daily lead us to the nutritional deficiencies in the body because it is lack of essential nutrients, vitamins, iron, minerals and dietary fibers.', 'Junk foods contain high level carbohydrate which spike blood sugar level and make person more lethargic, sleepy and less active and alert.']\n"
     ]
    }
   ],
   "source": [
    "# list to store sentences of summary\n",
    "text_summary=[]\n",
    "\n",
    "# Deciding the  total no of sentences in summary\n",
    "no_of_sentences=4\n",
    "\n",
    "# to count the no of sentence we already added to summary\n",
    "total = 0\n",
    "\n",
    "for i in range(len(sorted_score)):\n",
    "    # appending to the summary\n",
    "    text_summary.append(str(sorted_score[i][0]).capitalize()) \n",
    "    total += 1\n",
    "    # checking if limit exceeded\n",
    "    if(total >= no_of_sentences):\n",
    "        break \n",
    "\n",
    "print(text_summary)"
   ]
  },
  {
   "cell_type": "code",
   "execution_count": null,
   "metadata": {},
   "outputs": [],
   "source": []
  }
 ],
 "metadata": {
  "kernelspec": {
   "display_name": "Python 3",
   "language": "python",
   "name": "python3"
  },
  "language_info": {
   "codemirror_mode": {
    "name": "ipython",
    "version": 3
   },
   "file_extension": ".py",
   "mimetype": "text/x-python",
   "name": "python",
   "nbconvert_exporter": "python",
   "pygments_lexer": "ipython3",
   "version": "3.7.6"
  }
 },
 "nbformat": 4,
 "nbformat_minor": 4
}
