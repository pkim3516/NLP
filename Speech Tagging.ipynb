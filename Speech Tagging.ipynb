{
 "cells": [
  {
   "cell_type": "markdown",
   "metadata": {},
   "source": [
    "## Part of Speech Tagging"
   ]
  },
  {
   "cell_type": "code",
   "execution_count": 4,
   "metadata": {},
   "outputs": [
    {
     "name": "stderr",
     "output_type": "stream",
     "text": [
      "[nltk_data] Downloading package punkt to\n",
      "[nltk_data]     C:\\Users\\pkim3\\AppData\\Roaming\\nltk_data...\n",
      "[nltk_data]   Package punkt is already up-to-date!\n"
     ]
    }
   ],
   "source": [
    "import nltk\n",
    "nltk.download('punkt')\n",
    "\n",
    "import spacy\n",
    "\n",
    "nlp = spacy.load('en_core_web_sm')"
   ]
  },
  {
   "cell_type": "code",
   "execution_count": 5,
   "metadata": {},
   "outputs": [
    {
     "name": "stdout",
     "output_type": "stream",
     "text": [
      "Nitika     ----- PROPN\n",
      "was        ----- AUX\n",
      "screaming  ----- VERB\n",
      "out        ----- ADP\n",
      "loud       ----- ADV\n",
      "as         ----- SCONJ\n",
      "usual      ----- ADJ\n",
      "Her        ----- DET\n",
      "roommate   ----- NOUN\n",
      "kept       ----- VERB\n",
      "ignoring   ----- VERB\n",
      "her        ----- PRON\n"
     ]
    }
   ],
   "source": [
    "text='Nitika was screaming out loud as usual Her roommate kept ignoring her '\n",
    "text_doc=nlp(text)\n",
    "\n",
    "for token in text_doc:\n",
    "    print(token.text.ljust(10),'-----',token.pos_) #POS stands for Part of Speech Tagging"
   ]
  },
  {
   "cell_type": "code",
   "execution_count": 6,
   "metadata": {},
   "outputs": [
    {
     "name": "stdout",
     "output_type": "stream",
     "text": [
      "List of Nouns in the text\n",
      " [roommate]\n",
      "List of verbs in the text\n",
      " [screaming, kept, ignoring]\n"
     ]
    }
   ],
   "source": [
    "# creating list to store nouns and verbs\n",
    "nouns=[]\n",
    "verbs=[]\n",
    "\n",
    "# appending tokens to the list according POS category\n",
    "for token in text_doc:\n",
    "    if token.pos_ =='NOUN':\n",
    "        nouns.append(token)\n",
    "    if token.pos_ =='VERB':\n",
    "        verbs.append(token)\n",
    "\n",
    "print('List of Nouns in the text\\n',nouns)\n",
    "print('List of verbs in the text\\n',verbs)"
   ]
  },
  {
   "cell_type": "code",
   "execution_count": 7,
   "metadata": {},
   "outputs": [
    {
     "name": "stdout",
     "output_type": "stream",
     "text": [
      "{96: 'PROPN', 87: 'AUX', 100: 'VERB', 85: 'ADP', 86: 'ADV', 84: 'ADJ', 90: 'DET', 92: 'NOUN', 95: 'PRON'}\n"
     ]
    }
   ],
   "source": [
    "#Filtering junk POS\n",
    "\n",
    "# Storing the junk POS tags  \n",
    "junk_pos=['X','SCONJ']\n",
    "\n",
    "# Function to check if the token falls in the JUNK POS category.\n",
    "def remove_pos(word):\n",
    "    flag=False\n",
    "    if word.pos_ in junk_pos:\n",
    "        flag=True\n",
    "    return flag\n",
    "\n",
    "# Creating a new doc without the un-required tokens\n",
    "revised_robot_doc=[token for token in text_doc if remove_pos(token)==False]\n",
    "\n",
    "# Printing POS tags present in the new document.                   \n",
    "all_tags = {token.pos: token.pos_ for token in revised_robot_doc}\n",
    "print(all_tags)"
   ]
  },
  {
   "cell_type": "code",
   "execution_count": null,
   "metadata": {},
   "outputs": [],
   "source": []
  }
 ],
 "metadata": {
  "kernelspec": {
   "display_name": "Python 3",
   "language": "python",
   "name": "python3"
  },
  "language_info": {
   "codemirror_mode": {
    "name": "ipython",
    "version": 3
   },
   "file_extension": ".py",
   "mimetype": "text/x-python",
   "name": "python",
   "nbconvert_exporter": "python",
   "pygments_lexer": "ipython3",
   "version": "3.7.6"
  }
 },
 "nbformat": 4,
 "nbformat_minor": 4
}
