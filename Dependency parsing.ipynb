{
 "cells": [
  {
   "cell_type": "markdown",
   "metadata": {},
   "source": [
    "## Dependency parsing"
   ]
  },
  {
   "cell_type": "markdown",
   "metadata": {},
   "source": [
    "### Identify the root word and its dependents. Generally within a sentence there is a key 'root word', and other dependents add context to the root"
   ]
  },
  {
   "cell_type": "markdown",
   "metadata": {},
   "source": [
    "### token.dep_"
   ]
  },
  {
   "cell_type": "code",
   "execution_count": 2,
   "metadata": {},
   "outputs": [],
   "source": [
    "import nltk\n",
    "import spacy\n",
    "\n",
    "nlp = spacy.load('en_core_web_sm')"
   ]
  },
  {
   "cell_type": "code",
   "execution_count": 3,
   "metadata": {},
   "outputs": [
    {
     "name": "stdout",
     "output_type": "stream",
     "text": [
      "Ardra --- nsubj\n",
      "fell --- ROOT\n",
      "into --- prep\n",
      "a --- det\n",
      "well --- pobj\n",
      "and --- cc\n",
      "fractured --- conj\n",
      "her --- poss\n",
      "leg --- dobj\n"
     ]
    }
   ],
   "source": [
    "# Printing the dependency of each token\n",
    "my_text='Ardra fell into a well and fractured her leg'\n",
    "my_doc=nlp(my_text)\n",
    "\n",
    "for token in my_doc:\n",
    "    print(token.text,'---',token.dep_)"
   ]
  },
  {
   "cell_type": "markdown",
   "metadata": {},
   "source": [
    "### How to access the headword (root word) of each word in a sentence?"
   ]
  },
  {
   "cell_type": "code",
   "execution_count": 5,
   "metadata": {},
   "outputs": [
    {
     "name": "stdout",
     "output_type": "stream",
     "text": [
      "The --- robot\n",
      "robot --- displayed\n",
      "displayed --- displayed\n",
      "its --- functions\n",
      "functions --- displayed\n",
      "on --- displayed\n",
      "the --- screen\n",
      "big --- screen\n",
      "screen --- on\n",
      "  --- screen\n",
      "The --- audience\n",
      "audience --- applauded\n",
      "applauded --- applauded\n"
     ]
    }
   ],
   "source": [
    "my_text=\"The robot displayed its functions on the big screen  The audience applauded\"\n",
    "my_doc=nlp(my_text)\n",
    "\n",
    "for token in my_doc:\n",
    "    print(token.text,'---',token.head.text)"
   ]
  },
  {
   "cell_type": "code",
   "execution_count": null,
   "metadata": {},
   "outputs": [],
   "source": []
  }
 ],
 "metadata": {
  "kernelspec": {
   "display_name": "Python 3",
   "language": "python",
   "name": "python3"
  },
  "language_info": {
   "codemirror_mode": {
    "name": "ipython",
    "version": 3
   },
   "file_extension": ".py",
   "mimetype": "text/x-python",
   "name": "python",
   "nbconvert_exporter": "python",
   "pygments_lexer": "ipython3",
   "version": "3.7.6"
  }
 },
 "nbformat": 4,
 "nbformat_minor": 4
}
